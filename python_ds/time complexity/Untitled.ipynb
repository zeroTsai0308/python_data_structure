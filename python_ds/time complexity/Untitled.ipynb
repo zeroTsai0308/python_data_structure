{
 "cells": [
  {
   "cell_type": "code",
   "execution_count": 2,
   "metadata": {},
   "outputs": [
    {
     "data": {
      "text/plain": [
       "4.8300000003109744e-05"
      ]
     },
     "execution_count": 2,
     "metadata": {},
     "output_type": "execute_result"
    }
   ],
   "source": [
    "import timeit\n",
    "import random\n",
    "\n",
    "popzero = timeit.Timer(\"x.pop(0)\", \"from __main__ import x\")\n",
    "\n",
    "popend = timeit.Timer(\"x.pop()\", \"from __main__ import x\")\n",
    "\n",
    "x = list(range(2000000))\n",
    "popzero.timeit(number=1000)\n",
    "\n",
    "x = list(range(2000000))\n",
    "popend.timeit(number=1000)"
   ]
  },
  {
   "cell_type": "code",
   "execution_count": null,
   "metadata": {},
   "outputs": [],
   "source": []
  }
 ],
 "metadata": {
  "kernelspec": {
   "display_name": "Python 3",
   "language": "python",
   "name": "python3"
  },
  "language_info": {
   "codemirror_mode": {
    "name": "ipython",
    "version": 3
   },
   "file_extension": ".py",
   "mimetype": "text/x-python",
   "name": "python",
   "nbconvert_exporter": "python",
   "pygments_lexer": "ipython3",
   "version": "3.8.5"
  }
 },
 "nbformat": 4,
 "nbformat_minor": 4
}
